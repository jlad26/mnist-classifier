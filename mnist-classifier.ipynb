{
 "cells": [
  {
   "cell_type": "markdown",
   "metadata": {
    "gradient": {}
   },
   "source": [
    "# MNIST classifier"
   ]
  },
  {
   "cell_type": "markdown",
   "metadata": {},
   "source": [
    "## Set up"
   ]
  },
  {
   "cell_type": "code",
   "execution_count": 1,
   "metadata": {},
   "outputs": [],
   "source": [
    "# Imports\n",
    "import numpy as np\n",
    "import torch\n",
    "import torch.nn as nn\n",
    "from torch.utils.data import DataLoader\n",
    "import torchvision as tv\n",
    "import matplotlib.pyplot as plt\n",
    "from PIL import Image\n",
    "%matplotlib inline"
   ]
  },
  {
   "cell_type": "code",
   "execution_count": 2,
   "metadata": {},
   "outputs": [],
   "source": [
    "# Set parameters\n",
    "batch_size_train = 64\n",
    "batch_size_valid = 1000\n",
    "learning_rate = 0.01\n",
    "momentum = 0.9"
   ]
  },
  {
   "cell_type": "markdown",
   "metadata": {},
   "source": [
    "## Get and format the data"
   ]
  },
  {
   "cell_type": "code",
   "execution_count": 3,
   "metadata": {},
   "outputs": [],
   "source": [
    "def mnist_transform(img):\n",
    "    \"\"\"\n",
    "    Transform a PIL image with shape (28, 28) to a tensor of shape(28 * 28)\n",
    "    after normalizing using the MNIST dataset mean and variance\n",
    "    \n",
    "    Arguments:\n",
    "    img -- PIL image\n",
    "    \n",
    "    Returns:\n",
    "    output -- a tensor of shape (1, 28 * 28)\n",
    "    \"\"\"\n",
    "    initial_transform = tv.transforms.Compose([\n",
    "        tv.transforms.ToTensor(),\n",
    "        tv.transforms.Normalize((0.1307,), (0.3081,))\n",
    "    ])\n",
    "    output = initial_transform(img).view(28 * 28)\n",
    "    return output"
   ]
  },
  {
   "cell_type": "code",
   "execution_count": 4,
   "metadata": {},
   "outputs": [
    {
     "data": {
      "text/plain": [
       "(torch.Size([784]), 0)"
      ]
     },
     "execution_count": 4,
     "metadata": {},
     "output_type": "execute_result"
    }
   ],
   "source": [
    "# Get the MNIST dataset, normalizing using the MNIST mean and variance\n",
    "train_dset = tv.datasets.MNIST(root='./data', train=True, download=True, transform=mnist_transform)\n",
    "valid_dset = tv.datasets.MNIST(root='./data', train=False, download=True, transform=mnist_transform)\n",
    "test_x, test_y = train_dset[1]\n",
    "test_x.shape, test_y"
   ]
  },
  {
   "cell_type": "code",
   "execution_count": 5,
   "metadata": {},
   "outputs": [
    {
     "data": {
      "image/png": "[encoded data removed]",
      "text/plain": [
       "<Figure size 576x576 with 9 Axes>"
      ]
     },
     "metadata": {
      "needs_background": "light"
     },
     "output_type": "display_data"
    }
   ],
   "source": [
    "# Have a look at some images in the train dataset\n",
    "figure = plt.figure(figsize=(8, 8))\n",
    "cols, rows = 3, 3\n",
    "for i in range(1, cols * rows + 1):\n",
    "    # sample_idx = torch.randint(len(train_dset), size=(1,)).item()\n",
    "    sample_idx = i\n",
    "    x, label = train_dset[sample_idx]\n",
    "    img = x.reshape(1, 28, 28)\n",
    "    figure.add_subplot(rows, cols, i)\n",
    "    plt.title(label)\n",
    "    plt.axis(\"off\")\n",
    "    plt.imshow(img.squeeze(), cmap=\"gray\")\n",
    "plt.show()"
   ]
  },
  {
   "cell_type": "code",
   "execution_count": 6,
   "metadata": {
    "gradient": {}
   },
   "outputs": [],
   "source": [
    "# Create dataloaders\n",
    "train_dl = DataLoader(train_dset, batch_size=batch_size_train, shuffle=True)\n",
    "valid_dl = DataLoader(valid_dset, batch_size=batch_size_valid, shuffle=True)"
   ]
  },
  {
   "cell_type": "code",
   "execution_count": 7,
   "metadata": {},
   "outputs": [
    {
     "name": "stdout",
     "output_type": "stream",
     "text": [
      "Feature batch shape: torch.Size([64, 784])\n",
      "Labels batch shape: torch.Size([64])\n"
     ]
    }
   ],
   "source": [
    "# Check dataloader structure\n",
    "train_features, train_labels = next(iter(train_dl))\n",
    "print(f\"Feature batch shape: {train_features.size()}\")\n",
    "print(f\"Labels batch shape: {train_labels.size()}\")"
   ]
  },
  {
   "cell_type": "markdown",
   "metadata": {},
   "source": [
    "# Define model"
   ]
  },
  {
   "cell_type": "code",
   "execution_count": 8,
   "metadata": {
    "gradient": {}
   },
   "outputs": [
    {
     "name": "stdout",
     "output_type": "stream",
     "text": [
      "torch.Size([30, 784])\n",
      "torch.Size([30])\n",
      "torch.Size([30, 30])\n",
      "torch.Size([30])\n",
      "torch.Size([10, 30])\n",
      "torch.Size([10])\n"
     ]
    }
   ],
   "source": [
    "model = nn.Sequential(\n",
    "    nn.Linear(28*28,30),\n",
    "    nn.ReLU(),\n",
    "    nn.Linear(30,30),\n",
    "    nn.ReLU(),\n",
    "    nn.Linear(30,10)\n",
    ")\n",
    "for param in model.parameters():\n",
    "    print(param.shape)"
   ]
  },
  {
   "cell_type": "code",
   "execution_count": 9,
   "metadata": {},
   "outputs": [],
   "source": [
    "# Initialise loss and optimiser\n",
    "optimizer = torch.optim.SGD(model.parameters(), lr=learning_rate, momentum=momentum)\n",
    "loss_fn=nn.CrossEntropyLoss()"
   ]
  },
  {
   "cell_type": "code",
   "execution_count": 10,
   "metadata": {},
   "outputs": [
    {
     "data": {
      "text/plain": [
       "tensor([[ 0.0019, -0.0814,  0.1328,  0.1384, -0.1473, -0.1691,  0.0295,  0.0333,\n",
       "         -0.1610, -0.0439]], grad_fn=<UnsqueezeBackward0>)"
      ]
     },
     "execution_count": 10,
     "metadata": {},
     "output_type": "execute_result"
    }
   ],
   "source": [
    "# Test forward pass of single training example\n",
    "test_pred = model(test_x).unsqueeze(0)\n",
    "test_loss = loss_fn(test_pred, torch.tensor([test_y]))\n",
    "test_pred"
   ]
  },
  {
   "cell_type": "code",
   "execution_count": 11,
   "metadata": {},
   "outputs": [
    {
     "name": "stdout",
     "output_type": "stream",
     "text": [
      "torch.Size([64, 10]) torch.Size([64])\n",
      "64\n"
     ]
    }
   ],
   "source": [
    "# Test forward pass of single batch\n",
    "test_pred = model(train_features)\n",
    "test_loss = loss_fn(test_pred, train_labels)\n",
    "test_loss\n",
    "print(test_pred.shape, train_labels.shape)\n",
    "print(len(train_labels))"
   ]
  },
  {
   "cell_type": "code",
   "execution_count": 12,
   "metadata": {},
   "outputs": [],
   "source": [
    "# Calculate batch accuracy\n",
    "def batch_accuracy(batch_pred, batch_labels):\n",
    "    correct = (batch_pred.argmax(1) == batch_labels).type(torch.float).sum().item()\n",
    "    return correct / len(batch_labels)"
   ]
  },
  {
   "cell_type": "markdown",
   "metadata": {},
   "source": [
    "## Define training process"
   ]
  },
  {
   "cell_type": "code",
   "execution_count": 13,
   "metadata": {},
   "outputs": [],
   "source": [
    "# Define training loop\n",
    "def train_loop(dataloader, model, loss_fn, optimizer):\n",
    "    size = len(dataloader.dataset)\n",
    "    current_examples, losses, accuracy = [], [], []\n",
    "    for batch, (X, y) in enumerate(dataloader):\n",
    "        \n",
    "        # Compute prediction and loss\n",
    "        pred = model(X)\n",
    "        loss = loss_fn(pred, y)\n",
    "\n",
    "        # Backpropagation\n",
    "        optimizer.zero_grad()\n",
    "        loss.backward()\n",
    "        optimizer.step()\n",
    "\n",
    "        if batch % 100 == 0:\n",
    "            loss, current = loss.item(), batch * len(X)\n",
    "            current_examples.append(current)\n",
    "            losses.append(loss)\n",
    "            accuracy.append(batch_accuracy(pred, y))\n",
    "            print(f\"loss: {loss:>7f}  [{current:>5d}/{size:>5d}]\")\n",
    "    return current_examples, losses, accuracy"
   ]
  },
  {
   "cell_type": "code",
   "execution_count": 14,
   "metadata": {},
   "outputs": [],
   "source": [
    "def valid_loop(dataloader, model, loss_fn):\n",
    "    size = len(dataloader.dataset)\n",
    "    num_batches = len(dataloader)\n",
    "    valid_loss, correct = 0, 0\n",
    "\n",
    "    with torch.no_grad():\n",
    "        for batch, (X, y) in enumerate(dataloader):\n",
    "            pred = model(X)\n",
    "            valid_loss += loss_fn(pred, y).item()\n",
    "            correct += (pred.argmax(1) == y).type(torch.float).sum().item()\n",
    "\n",
    "    valid_loss /= num_batches\n",
    "    accuracy = correct / size\n",
    "    print(f\"Test Error: \\n Accuracy: {(100*accuracy):>0.1f}%, Avg loss: {valid_loss:>8f} \\n\")\n",
    "    return valid_loss, accuracy"
   ]
  },
  {
   "cell_type": "markdown",
   "metadata": {},
   "source": [
    "## Train"
   ]
  },
  {
   "cell_type": "code",
   "execution_count": 15,
   "metadata": {},
   "outputs": [],
   "source": [
    "# Set up global variables so we can train in steps without losing the current model state\n",
    "train_examples, train_losses, train_accuracy = [], [], []\n",
    "valid_examples, valid_accuracy = [0], [0]\n",
    "current_epoch = 0"
   ]
  },
  {
   "cell_type": "code",
   "execution_count": 16,
   "metadata": {},
   "outputs": [
    {
     "name": "stdout",
     "output_type": "stream",
     "text": [
      "Epoch 1\n",
      "-------------------------------\n",
      "loss: 2.295142  [    0/60000]\n",
      "loss: 0.653924  [ 6400/60000]\n",
      "loss: 0.321660  [12800/60000]\n",
      "loss: 0.174862  [19200/60000]\n",
      "loss: 0.166984  [25600/60000]\n",
      "loss: 0.211110  [32000/60000]\n",
      "loss: 0.207614  [38400/60000]\n",
      "loss: 0.078478  [44800/60000]\n",
      "loss: 0.356958  [51200/60000]\n",
      "loss: 0.220709  [57600/60000]\n",
      "Test Error: \n",
      " Accuracy: 94.5%, Avg loss: 0.184867 \n",
      "\n",
      "Epoch 2\n",
      "-------------------------------\n",
      "loss: 0.181205  [    0/60000]\n",
      "loss: 0.313632  [ 6400/60000]\n",
      "loss: 0.221884  [12800/60000]\n",
      "loss: 0.274810  [19200/60000]\n",
      "loss: 0.210111  [25600/60000]\n",
      "loss: 0.192567  [32000/60000]\n",
      "loss: 0.133536  [38400/60000]\n",
      "loss: 0.037227  [44800/60000]\n",
      "loss: 0.202893  [51200/60000]\n",
      "loss: 0.146581  [57600/60000]\n",
      "Test Error: \n",
      " Accuracy: 95.4%, Avg loss: 0.144901 \n",
      "\n",
      "Epoch 3\n",
      "-------------------------------\n",
      "loss: 0.058735  [    0/60000]\n",
      "loss: 0.211491  [ 6400/60000]\n",
      "loss: 0.137083  [12800/60000]\n",
      "loss: 0.276242  [19200/60000]\n",
      "loss: 0.060571  [25600/60000]\n",
      "loss: 0.264924  [32000/60000]\n",
      "loss: 0.106139  [38400/60000]\n",
      "loss: 0.083929  [44800/60000]\n",
      "loss: 0.104642  [51200/60000]\n",
      "loss: 0.217420  [57600/60000]\n",
      "Test Error: \n",
      " Accuracy: 96.4%, Avg loss: 0.114561 \n",
      "\n",
      "Epoch 4\n",
      "-------------------------------\n",
      "loss: 0.025511  [    0/60000]\n",
      "loss: 0.063294  [ 6400/60000]\n",
      "loss: 0.219315  [12800/60000]\n",
      "loss: 0.158191  [19200/60000]\n",
      "loss: 0.144781  [25600/60000]\n",
      "loss: 0.191057  [32000/60000]\n",
      "loss: 0.130839  [38400/60000]\n",
      "loss: 0.136721  [44800/60000]\n",
      "loss: 0.040688  [51200/60000]\n",
      "loss: 0.087903  [57600/60000]\n",
      "Test Error: \n",
      " Accuracy: 96.6%, Avg loss: 0.112192 \n",
      "\n",
      "Epoch 5\n",
      "-------------------------------\n",
      "loss: 0.124109  [    0/60000]\n",
      "loss: 0.051968  [ 6400/60000]\n",
      "loss: 0.330238  [12800/60000]\n",
      "loss: 0.193111  [19200/60000]\n",
      "loss: 0.118163  [25600/60000]\n",
      "loss: 0.074620  [32000/60000]\n",
      "loss: 0.204155  [38400/60000]\n",
      "loss: 0.096033  [44800/60000]\n",
      "loss: 0.068636  [51200/60000]\n",
      "loss: 0.120418  [57600/60000]\n",
      "Test Error: \n",
      " Accuracy: 96.5%, Avg loss: 0.115025 \n",
      "\n",
      "Epoch 6\n",
      "-------------------------------\n",
      "loss: 0.091842  [    0/60000]\n",
      "loss: 0.116250  [ 6400/60000]\n",
      "loss: 0.067310  [12800/60000]\n",
      "loss: 0.065693  [19200/60000]\n",
      "loss: 0.072294  [25600/60000]\n",
      "loss: 0.139274  [32000/60000]\n",
      "loss: 0.011776  [38400/60000]\n",
      "loss: 0.104386  [44800/60000]\n",
      "loss: 0.143864  [51200/60000]\n",
      "loss: 0.122145  [57600/60000]\n",
      "Test Error: \n",
      " Accuracy: 96.3%, Avg loss: 0.121648 \n",
      "\n",
      "Epoch 7\n",
      "-------------------------------\n",
      "loss: 0.024487  [    0/60000]\n",
      "loss: 0.063472  [ 6400/60000]\n",
      "loss: 0.029036  [12800/60000]\n",
      "loss: 0.220899  [19200/60000]\n",
      "loss: 0.069153  [25600/60000]\n",
      "loss: 0.205808  [32000/60000]\n",
      "loss: 0.010041  [38400/60000]\n",
      "loss: 0.121388  [44800/60000]\n",
      "loss: 0.268567  [51200/60000]\n",
      "loss: 0.075140  [57600/60000]\n",
      "Test Error: \n",
      " Accuracy: 96.4%, Avg loss: 0.120131 \n",
      "\n",
      "Epoch 8\n",
      "-------------------------------\n",
      "loss: 0.097287  [    0/60000]\n",
      "loss: 0.149893  [ 6400/60000]\n",
      "loss: 0.010514  [12800/60000]\n",
      "loss: 0.014134  [19200/60000]\n",
      "loss: 0.053540  [25600/60000]\n",
      "loss: 0.079340  [32000/60000]\n",
      "loss: 0.064562  [38400/60000]\n",
      "loss: 0.013324  [44800/60000]\n",
      "loss: 0.027636  [51200/60000]\n",
      "loss: 0.031732  [57600/60000]\n",
      "Test Error: \n",
      " Accuracy: 96.6%, Avg loss: 0.113655 \n",
      "\n",
      "Epoch 9\n",
      "-------------------------------\n",
      "loss: 0.058755  [    0/60000]\n",
      "loss: 0.116917  [ 6400/60000]\n",
      "loss: 0.034466  [12800/60000]\n",
      "loss: 0.015701  [19200/60000]\n",
      "loss: 0.093561  [25600/60000]\n",
      "loss: 0.061361  [32000/60000]\n",
      "loss: 0.114391  [38400/60000]\n",
      "loss: 0.009896  [44800/60000]\n",
      "loss: 0.020997  [51200/60000]\n",
      "loss: 0.015803  [57600/60000]\n",
      "Test Error: \n",
      " Accuracy: 96.6%, Avg loss: 0.113896 \n",
      "\n",
      "Epoch 10\n",
      "-------------------------------\n",
      "loss: 0.203754  [    0/60000]\n",
      "loss: 0.018714  [ 6400/60000]\n",
      "loss: 0.081053  [12800/60000]\n",
      "loss: 0.027814  [19200/60000]\n",
      "loss: 0.103656  [25600/60000]\n",
      "loss: 0.016978  [32000/60000]\n",
      "loss: 0.133597  [38400/60000]\n",
      "loss: 0.147964  [44800/60000]\n",
      "loss: 0.006475  [51200/60000]\n",
      "loss: 0.050855  [57600/60000]\n",
      "Test Error: \n",
      " Accuracy: 96.7%, Avg loss: 0.116210 \n",
      "\n",
      "Done!\n"
     ]
    }
   ],
   "source": [
    "# Run the training\n",
    "last_epoch = 10\n",
    "for epoch in range(current_epoch, last_epoch):\n",
    "    print(f\"Epoch {epoch+1}\\n-------------------------------\")\n",
    "    current_examples, losses, accuracy = train_loop(train_dl, model, loss_fn, optimizer)\n",
    "    train_examples_to_add = np.array(current_examples) + (epoch * len(train_dl.dataset))\n",
    "    train_examples.extend(train_examples_to_add.tolist())\n",
    "    train_losses.extend(losses)\n",
    "    train_accuracy.extend(accuracy)\n",
    "    valid_epoch_loss, valid_epoch_accuracy = valid_loop(valid_dl, model, loss_fn)\n",
    "    valid_examples.append((epoch + 1) * len(train_dl.dataset))\n",
    "    valid_accuracy.append(valid_epoch_accuracy)\n",
    "    current_epoch += 1\n",
    "print(\"Done!\")"
   ]
  },
  {
   "cell_type": "code",
   "execution_count": 17,
   "metadata": {},
   "outputs": [
    {
     "data": {
      "image/png": "[encoded data removed]",
      "text/plain": [
       "<Figure size 432x288 with 2 Axes>"
      ]
     },
     "metadata": {
      "needs_background": "light"
     },
     "output_type": "display_data"
    }
   ],
   "source": [
    "# Plot results\n",
    "fig, ax1 = plt.subplots()\n",
    "#ax1.set_ylim(bottom=2)\n",
    "plt_train_losses, = ax1.plot(train_examples, train_losses, color='blue', label='Train Loss')\n",
    "ax2 = ax1.twinx()\n",
    "ax2.set_ylim(bottom=0.8)\n",
    "plt_train_accuracy, = ax2.plot(train_examples, train_accuracy, color='red', label='Train Batch Accuracy')\n",
    "plt_valid_accuracy, = ax2.plot(valid_examples, valid_accuracy, color='green', label='Valid Batch Accuracy')\n",
    "ax1.legend(\n",
    "    [plt_train_losses, plt_train_accuracy, plt_valid_accuracy],\n",
    "    ['Train Loss', 'Train Batch Accuracy', 'Validation Accuracy'],\n",
    "    loc=7\n",
    ")\n",
    "ax1.set_xlabel('number of training examples seen')\n",
    "ax1.set_ylabel('cross entropy loss')\n",
    "ax2.set_ylabel('batch accuracy');"
   ]
  },
  {
   "cell_type": "markdown",
   "metadata": {},
   "source": [
    "# Results"
   ]
  },
  {
   "cell_type": "markdown",
   "metadata": {},
   "source": [
    "The model quickly finds a \"good\" solution. By continuing training for a long time, we can see that training accuracy starts to creep up higher than validation accuracy, showing over-fitting.\n",
    "\n",
    "Note that the shape of the train batch accuracy curve is given by the discrete nature of the number of correct values - for example in later epochs the accuracy tends to be either 100%, 98.44%, or 96.88% - corresponding to 64, 63 or 62 correct predictions out of each batch of 64 examples."
   ]
  }
 ],
 "metadata": {
  "kernelspec": {
   "display_name": "Python 3 (ipykernel)",
   "language": "python",
   "name": "python3"
  },
  "language_info": {
   "codemirror_mode": {
    "name": "ipython",
    "version": 3
   },
   "file_extension": ".py",
   "mimetype": "text/x-python",
   "name": "python",
   "nbconvert_exporter": "python",
   "pygments_lexer": "ipython3",
   "version": "3.9.10"
  }
 },
 "nbformat": 4,
 "nbformat_minor": 4
}
